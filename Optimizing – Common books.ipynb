{
 "cells": [
  {
   "cell_type": "code",
   "execution_count": 9,
   "metadata": {},
   "outputs": [],
   "source": [
    "import time\n",
    "import pandas as pd\n",
    "import numpy as np\n",
    "\n",
    "with open('all-coding-books.txt') as f:\n",
    "    recent_books = f.read().split('\\n')\n",
    "\n",
    "\n",
    "with open('books-published-last-two-years.txt') as f:\n",
    "    coding_books = f.read().split('\\n')\n",
    "\n"
   ]
  },
  {
   "cell_type": "code",
   "execution_count": 10,
   "metadata": {},
   "outputs": [
    {
     "name": "stdout",
     "output_type": "stream",
     "text": [
      "96\n",
      "Duration: 11.326901912689209 seconds\n"
     ]
    }
   ],
   "source": [
    "start = time.time()\n",
    "recent_coding_books = []\n",
    "\n",
    "for book in recent_books:\n",
    "    if book in coding_books:\n",
    "        recent_coding_books.append(book)\n",
    "\n",
    "print(len(recent_coding_books))\n",
    "print('Duration: {} seconds'.format(time.time() - start))\n",
    "\n"
   ]
  },
  {
   "cell_type": "code",
   "execution_count": 11,
   "metadata": {},
   "outputs": [
    {
     "name": "stdout",
     "output_type": "stream",
     "text": [
      "96\n",
      "Duration: 0.029047012329101562 seconds\n"
     ]
    }
   ],
   "source": [
    "## Tip #1: Use vector operations over loops when possible\n",
    "\n",
    "start = time.time()\n",
    "recent_coding_books = np.intersect1d(recent_books, coding_books)\n",
    "print(len(recent_coding_books))\n",
    "print('Duration: {} seconds'.format(time.time() - start))\n",
    "\n"
   ]
  },
  {
   "cell_type": "code",
   "execution_count": null,
   "metadata": {},
   "outputs": [],
   "source": []
  },
  {
   "cell_type": "code",
   "execution_count": 12,
   "metadata": {},
   "outputs": [
    {
     "name": "stdout",
     "output_type": "stream",
     "text": [
      "96\n",
      "Duration: 0.00693821907043457 seconds\n"
     ]
    }
   ],
   "source": [
    "## Tip #2: Know your data structures and which methods are faster\n",
    "\n",
    "start = time.time()\n",
    "recent_coding_books = set(recent_books).intersection(coding_books)\n",
    "print(len(recent_coding_books))\n",
    "print('Duration: {} seconds'.format(time.time() - start))"
   ]
  },
  {
   "cell_type": "code",
   "execution_count": null,
   "metadata": {},
   "outputs": [],
   "source": []
  }
 ],
 "metadata": {
  "kernelspec": {
   "display_name": "Python 3",
   "language": "python",
   "name": "python3"
  },
  "language_info": {
   "codemirror_mode": {
    "name": "ipython",
    "version": 3
   },
   "file_extension": ".py",
   "mimetype": "text/x-python",
   "name": "python",
   "nbconvert_exporter": "python",
   "pygments_lexer": "ipython3",
   "version": "3.8.3"
  }
 },
 "nbformat": 4,
 "nbformat_minor": 4
}
